{
 "cells": [
  {
   "cell_type": "markdown",
   "id": "19deab22",
   "metadata": {},
   "source": [
    "## Exercícios com Programação Funcional: Listas Encadeadas"
   ]
  },
  {
   "cell_type": "code",
   "execution_count": 2,
   "id": "e926e3ee",
   "metadata": {},
   "outputs": [],
   "source": [
    "def head(ll):\n",
    "    return ll[0]\n",
    "\n",
    "def tail(ll):\n",
    "    return ll[1]"
   ]
  },
  {
   "cell_type": "code",
   "execution_count": null,
   "id": "8828fd4a",
   "metadata": {},
   "outputs": [],
   "source": [
    "# Exemplo:\n",
    "ll = (1, (2, (3, None)))\n",
    "print(head(ll))\n",
    "print(tail(ll))"
   ]
  },
  {
   "cell_type": "markdown",
   "id": "bfd736fd",
   "metadata": {},
   "source": [
    "### 1. Crie uma função que adicione um item no início de lista encadeada"
   ]
  },
  {
   "cell_type": "code",
   "execution_count": null,
   "id": "a1097991",
   "metadata": {},
   "outputs": [],
   "source": []
  },
  {
   "cell_type": "markdown",
   "id": "ba19072d",
   "metadata": {},
   "source": [
    "### 2. Crie uma função que adicione um item no final de lista encadeada"
   ]
  },
  {
   "cell_type": "code",
   "execution_count": null,
   "id": "3d2def75",
   "metadata": {},
   "outputs": [],
   "source": []
  },
  {
   "cell_type": "markdown",
   "id": "a2c30335",
   "metadata": {},
   "source": [
    "### 3. Transformando uma lista em uma lista encadeada (linked)"
   ]
  },
  {
   "cell_type": "code",
   "execution_count": null,
   "id": "97cde5c3",
   "metadata": {},
   "outputs": [],
   "source": []
  },
  {
   "cell_type": "markdown",
   "id": "824107e2",
   "metadata": {},
   "source": [
    "### 4. Transformando uma lista encadeada (linked) em lista"
   ]
  },
  {
   "cell_type": "code",
   "execution_count": null,
   "id": "d162074b",
   "metadata": {},
   "outputs": [],
   "source": []
  },
  {
   "cell_type": "markdown",
   "id": "d6e9ee56",
   "metadata": {},
   "source": [
    "### 5. Função que retorna a quantidade de elementos"
   ]
  },
  {
   "cell_type": "code",
   "execution_count": null,
   "id": "b166d2e1",
   "metadata": {},
   "outputs": [],
   "source": []
  },
  {
   "cell_type": "markdown",
   "id": "e20139da",
   "metadata": {},
   "source": [
    "### 6. Crie uma função que retorne o último elemento de uma lista encadeada"
   ]
  },
  {
   "cell_type": "code",
   "execution_count": null,
   "id": "d5cf960f",
   "metadata": {},
   "outputs": [],
   "source": []
  },
  {
   "cell_type": "markdown",
   "id": "cc82784b",
   "metadata": {},
   "source": [
    "### 5. Crie uma função de alta ordem que receba uma função e uma lista encadeada, e aplique a função para todos os objetos da lista encadeada\n"
   ]
  },
  {
   "cell_type": "code",
   "execution_count": null,
   "id": "f7b5f7b4",
   "metadata": {},
   "outputs": [],
   "source": []
  },
  {
   "cell_type": "markdown",
   "id": "07e28da8",
   "metadata": {},
   "source": [
    "### 6. Crie uma função que retorne o maior elemento de uma lista encadeada"
   ]
  },
  {
   "cell_type": "code",
   "execution_count": null,
   "id": "eea75b63",
   "metadata": {},
   "outputs": [],
   "source": []
  },
  {
   "cell_type": "markdown",
   "id": "ac27e3c5",
   "metadata": {},
   "source": [
    "### 7. Crie uma função que retorne uma lista encadeada contendo apenas os elementos pares de uma lista encadeada"
   ]
  },
  {
   "cell_type": "code",
   "execution_count": null,
   "id": "0ed28bc4",
   "metadata": {},
   "outputs": [],
   "source": []
  },
  {
   "cell_type": "markdown",
   "id": "f6c73652",
   "metadata": {},
   "source": [
    "### 8. Crie uma função que leva o primeiro item da lista para a última posição"
   ]
  },
  {
   "cell_type": "code",
   "execution_count": null,
   "id": "7bf09f44",
   "metadata": {},
   "outputs": [],
   "source": []
  },
  {
   "cell_type": "markdown",
   "id": "f344015e",
   "metadata": {},
   "source": [
    "### 9. Crie uma função que inverta a lista encadeada"
   ]
  },
  {
   "cell_type": "code",
   "execution_count": null,
   "id": "174e3a41",
   "metadata": {},
   "outputs": [],
   "source": []
  },
  {
   "cell_type": "markdown",
   "id": "6ccca4dd",
   "metadata": {},
   "source": [
    "### 9. MergeSort para Lista Encadeadas"
   ]
  },
  {
   "cell_type": "markdown",
   "id": "5501c0c7",
   "metadata": {},
   "source": [
    "#### A. Função Split\n",
    "\n",
    "Escreva uma função pura `split`, que receba uma lista `L` e retorne duas listas (`L1` e `L2`) tal que as seguinte propriedades sejam verdadeiras.\n",
    "- $elem$ in `L` $->$  $elem$ in `L1` $||$ `L2`\n",
    "- `size(L)` $==$ `size(L1)` $+$ `size(L2)`  (não pode ter duplicação)\n",
    "- `abs(size(L1)` - `size(L2))` $<=$ `1`"
   ]
  },
  {
   "cell_type": "code",
   "execution_count": null,
   "id": "7728f962",
   "metadata": {},
   "outputs": [],
   "source": []
  },
  {
   "cell_type": "markdown",
   "id": "f689e3b1",
   "metadata": {},
   "source": [
    "#### B. Função sorted em ascendente\n",
    "\n",
    "Escrever uma função pura `sorted`, que retorne `True` quando `L` for uma lista ordenada em ordem ascendente e `False` caso contrário."
   ]
  },
  {
   "cell_type": "code",
   "execution_count": null,
   "id": "610f4393",
   "metadata": {},
   "outputs": [],
   "source": []
  },
  {
   "cell_type": "markdown",
   "id": "df145e12",
   "metadata": {},
   "source": [
    "#### C. Função merge\n",
    " Escreva uma função pura `merge`, que receba duas listas (`L1`, `L2`) e retorne uma lista `L`, tal que as seguintes proprieades sejam verdadeiras.\n",
    " \n",
    "- $elem$ in `L1` $||$ `L2` $->$ $elem$ in `L` \n",
    "- `size(L1)` $+$ `size(L2)` $==$ `size(L)` \n",
    "- `sorted(L1)` $&&$ `sorted(L2))` $->$ `L`"
   ]
  },
  {
   "cell_type": "code",
   "execution_count": null,
   "id": "b474a57e",
   "metadata": {},
   "outputs": [],
   "source": []
  },
  {
   "cell_type": "markdown",
   "id": "ac78cef7",
   "metadata": {},
   "source": [
    "#### D. Função mergeSort\n",
    "\n",
    "Escreva uma função pura `mergeSort`, que receba uma lista `L` e retorne uma lista ordenada `LS`, tal que as seguintes propriedades sejam verdadeiras\n",
    "\n",
    "- $elem$ in `L` $<->$ $elem$ in `LL` (preserva os elementos)\n",
    "- `sorted(LL)`\n"
   ]
  },
  {
   "cell_type": "code",
   "execution_count": null,
   "id": "df4f3025",
   "metadata": {},
   "outputs": [],
   "source": []
  },
  {
   "cell_type": "code",
   "execution_count": null,
   "id": "ee7c5d6a",
   "metadata": {},
   "outputs": [],
   "source": []
  }
 ],
 "metadata": {
  "kernelspec": {
   "display_name": "Python 3",
   "language": "python",
   "name": "python3"
  },
  "language_info": {
   "codemirror_mode": {
    "name": "ipython",
    "version": 3
   },
   "file_extension": ".py",
   "mimetype": "text/x-python",
   "name": "python",
   "nbconvert_exporter": "python",
   "pygments_lexer": "ipython3",
   "version": "3.9.6"
  }
 },
 "nbformat": 4,
 "nbformat_minor": 5
}
