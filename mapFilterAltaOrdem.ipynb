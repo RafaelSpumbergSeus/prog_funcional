{
 "cells": [
  {
   "cell_type": "markdown",
   "id": "e18ae20c",
   "metadata": {},
   "source": [
    "1. Quadrado dos números\n",
    "Crie uma função que recebe uma lista de inteiros e retorna uma nova lista com os\n",
    "quadrados de cada número.\n",
    "[1, 2, 3, 4] → [1, 4, 9, 16]"
   ]
  },
  {
   "cell_type": "markdown",
   "id": "0f6ac62f",
   "metadata": {},
   "source": [
    "2. Filtrar pares\n",
    "Crie uma função que recebe uma lista de inteiros e retorna apenas os números pares.\n",
    "[1, 2, 3, 4, 5] → [2, 4]"
   ]
  },
  {
   "cell_type": "markdown",
   "id": "16eba4fa",
   "metadata": {},
   "source": [
    "3. Converter para maiúsculas\n",
    "Dada uma lista de strings, retorne uma nova lista com todas as palavras em letras\n",
    "maiúsculas.\n",
    "[\"python\", \"é\", \"legal\"] → [\"PYTHON\", \"É\", \"LEGAL\"]"
   ]
  },
  {
   "cell_type": "markdown",
   "id": "65942c57",
   "metadata": {},
   "source": [
    "4. Filtrar palavras longas\n",
    "Dada uma lista de strings, retorne apenas as que têm mais de 5 caracteres.\n",
    "[\"banana\", \"uva\", \"abacaxi\", \"manga\"] → [\"banana\", \"abacaxi\"]"
   ]
  },
  {
   "cell_type": "markdown",
   "id": "20a9cc90",
   "metadata": {},
   "source": [
    "5. Dobrar depois de somar 10\n",
    "Crie uma função que, para cada número da lista, some 10 e depois multiplique por 2.\n",
    "[1, 2, 3] → [22, 24, 26]"
   ]
  },
  {
   "cell_type": "markdown",
   "id": "d7389c02",
   "metadata": {},
   "source": [
    "6. Remover strings vazias ou com espaços\n",
    "Dada uma lista de strings, remova as que estiverem vazias ou com apenas espaços.\n",
    "[\"oi\", \" \", \"\", \"tudo\", \"bem\"] → [\"oi\", \"tudo\", \"bem\"]"
   ]
  },
  {
   "cell_type": "markdown",
   "id": "a544d7aa",
   "metadata": {},
   "source": [
    "7. Filtrar e transformar\n",
    "Crie uma função que:\n",
    "filtre números ímpares de uma lista, e\n",
    "os transforme em suas representações em string com \"número: \" como prefixo.\n",
    "[1, 2, 3] → [\"número: 1\", \"número: 3\"]"
   ]
  },
  {
   "cell_type": "markdown",
   "id": "aa06abf4",
   "metadata": {},
   "source": [
    "8. Pipeline de múltiplas transformações\n",
    "Dada uma lista de números inteiros, crie uma função que:\n",
    "filtre apenas os múltiplos de 3\n",
    "eleve cada um ao quadrado\n",
    "converta para string com o texto \"valor: \" na frente\n",
    "[1, 3, 4, 6] → [\"valor: 9\", \"valor: 36\"]\n"
   ]
  },
  {
   "cell_type": "markdown",
   "id": "eb2b4f0b",
   "metadata": {},
   "source": [
    "9. Função genérica de transformação\n",
    "Escreva uma função chamada transformar_lista que recebe:\n",
    "uma lista\n",
    "uma função de filtro\n",
    "uma função de transformação\n",
    "Ela deve aplicar o filtro e, em seguida, aplicar a transformação.\n",
    "Exemplo de uso:\n",
    "transformar_lista([1, 2, 3, 4], lambda x: x % 2 == 0, lambda x: x * 10)\n",
    "→ [20, 40]\n"
   ]
  },
  {
   "cell_type": "markdown",
   "id": "62d0f99c",
   "metadata": {},
   "source": [
    "10. Contar elementos após filtro\n",
    "Crie uma função que receba uma lista de palavras e uma letra, e retorne quantas palavras\n",
    "começam com essa letra.\n",
    "([\"casa\", \"carro\", \"moto\", \"cachorro\"], \"c\") → 3"
   ]
  },
  {
   "cell_type": "markdown",
   "id": "cc59eb73",
   "metadata": {},
   "source": [
    "11. Some os elementos de uma lista\n",
    "Crie uma função que recebe uma lista de números e retorna a soma de todos os\n",
    "elementos. Utilize de recursão para fazer a soma, não recorra ao método sum .\n",
    "[1, 2, 3, 4] → 10"
   ]
  },
  {
   "cell_type": "markdown",
   "id": "6960a5bd",
   "metadata": {},
   "source": [
    "12. Inverta a lista\n",
    "Use um método recursivo para inverter uma lista.\n",
    "[1, 2, 3, 4] → [4, 3, 2, 1]"
   ]
  },
  {
   "cell_type": "markdown",
   "id": "2c6ef06f",
   "metadata": {},
   "source": [
    "13. Remover elementos consecutivos iguais\n",
    "Crie uma função que recebe uma lista e remove elementos consecutivos iguais.\n",
    "[1, 1, 2, 2, 3] → [1, 2, 3]"
   ]
  },
  {
   "cell_type": "markdown",
   "id": "406350da",
   "metadata": {},
   "source": [
    "14. Verificar se a lista é palíndroma\n",
    "Crie uma função que verifica se uma lista é palíndroma (ou seja, se ela é igual à sua\n",
    "inversa).\n",
    "[1,2,3,2,1] → True\n",
    "[1,2,3] → False"
   ]
  }
 ],
 "metadata": {
  "language_info": {
   "name": "python"
  }
 },
 "nbformat": 4,
 "nbformat_minor": 5
}
